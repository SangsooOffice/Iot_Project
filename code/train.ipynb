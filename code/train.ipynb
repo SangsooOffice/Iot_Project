{
  "cells": [
    {
      "cell_type": "code",
      "execution_count": null,
      "metadata": {
        "id": "VC2a6clU8C-g"
      },
      "outputs": [],
      "source": [
        "\n",
        "!pip install tensorflow==2.10.0\n",
        "!pip install keras==2.10.0"
      ]
    },
    {
      "cell_type": "code",
      "execution_count": null,
      "metadata": {
        "id": "TnqCVyWJobvt"
      },
      "outputs": [],
      "source": [
        "!pip install GPUtil"
      ]
    },
    {
      "cell_type": "code",
      "execution_count": null,
      "metadata": {
        "colab": {
          "base_uri": "https://localhost:8080/"
        },
        "id": "9uw2k6LsiyyH",
        "outputId": "732018de-c77c-4cca-b587-b4c5649ae63c"
      },
      "outputs": [
        {
          "name": "stdout",
          "output_type": "stream",
          "text": [
            "Mounted at /content/drive\n"
          ]
        }
      ],
      "source": [
        "from google.colab import drive\n",
        "\n",
        "drive.mount('/content/drive')"
      ]
    },
    {
      "cell_type": "code",
      "execution_count": null,
      "metadata": {
        "id": "5xbeqvGfiypf"
      },
      "outputs": [],
      "source": [
        "!unzip /content/drive/MyDrive/iot2/20 -d /content/img/\n",
        "!unzip /content/drive/MyDrive/iot2/26 -d /content/img/\n",
        "!unzip /content/drive/MyDrive/iot2/102_No -d /content/img/\n",
        "!unzip /content/drive/MyDrive/iot2/104_No -d /content/img/"
      ]
    },
    {
      "cell_type": "code",
      "execution_count": null,
      "metadata": {},
      "outputs": [],
      "source": [
        "import os\n",
        "import random\n",
        "import fnmatch\n",
        "import pickle\n",
        "import GPUtil\n",
        "from tensorflow.keras.callbacks import Callback\n",
        "from tensorflow.keras.callbacks import ModelCheckpoint, EarlyStopping\n",
        "from tensorflow.keras.layers import Dropout\n",
        "\n",
        "# data processing\n",
        "import numpy as np\n",
        "import pandas as pd\n",
        "\n",
        "\n",
        "# tensorflow\n",
        "import tensorflow as tf\n",
        "import tensorflow.keras\n",
        "\n",
        "#V2 is tensorflow.keras.xxxx, V1 is keras.xxx\n",
        "from tensorflow.keras.models import Sequential\n",
        "from tensorflow.keras.layers import Conv2D, MaxPool2D, Dropout, Flatten, Dense\n",
        "from tensorflow.keras.optimizers import Adam\n",
        "from tensorflow.keras.models import load_model\n",
        "from sklearn.utils import shuffle\n",
        "from sklearn.model_selection import train_test_split\n",
        "import cv2\n",
        "import matplotlib.pyplot as plt\n",
        "import matplotlib.image as mpimg\n",
        "from PIL import Image"
      ]
    },
    {
      "cell_type": "markdown",
      "metadata": {},
      "source": [
        "## TPU 및 GPU 설정"
      ]
    },
    {
      "cell_type": "code",
      "execution_count": null,
      "metadata": {
        "colab": {
          "base_uri": "https://localhost:8080/",
          "height": 394
        },
        "id": "opsT6LKHiizu",
        "outputId": "a9461283-1f34-49e0-c0cc-ae7783fa0675"
      },
      "outputs": [],
      "source": [
        "try:\n",
        "  tpu = tf.distribute.cluster_resolver.TPUClusterResolver()\n",
        "except ValueError:\n",
        "  tpu = None\n",
        "  gpus = tf.config.experimental.list_logical_devices(\"GPU\")\n",
        "\n",
        "\n",
        "if tpu:\n",
        "  tf.config.experimental_connect_to_cluster(tpu)\n",
        "  strategy = tf.distribute.TPUStrategy(tpu)\n",
        "  print('Running on TPU ', tpu.cluster_spec().as_dict()['worker'])\n",
        "elif len(gpus) > 0:\n",
        "  strategy = tf.distribute.MirroredStrategy(gpus) #\n",
        "  print('Running on ', len(gpus), ' GPU(s) ')\n",
        "else:\n",
        "  strategy = tf.distribute.get_strategy()\n",
        "  print('Running on CPU')\n",
        "\n",
        "print(\"Number of accelerators: \", strategy.num_replicas_in_sync)"
      ]
    },
    {
      "cell_type": "markdown",
      "metadata": {},
      "source": [
        "## 전처리및 모델 정의"
      ]
    },
    {
      "cell_type": "code",
      "execution_count": null,
      "metadata": {},
      "outputs": [],
      "source": [
        "class GpuUsageCallback(Callback):\n",
        "      def on_epoch_end(self, epoch, logs=None):\n",
        "        GPUs = GPUtil.getGPUs()\n",
        "        gpu = GPUs[0]\n",
        "        print(\"\\nGPU RAM Free: {0:.0f}MB | Used: {1:.0f}MB | Util {2:3.0f}% | Total {3:.0f}MB\".format(gpu.memoryFree, gpu.memoryUsed, gpu.memoryUtil*100, gpu.memoryTotal))\n",
        "\n",
        "\n",
        "\n",
        "gpu_usage_callback = GpuUsageCallback()\n",
        "def my_imread(image_path):\n",
        "    image = cv2.imread(image_path)\n",
        "    return image\n",
        "\n",
        "def img_preprocess(image):\n",
        "    image = image / 255\n",
        "\n",
        "    return image\n",
        "\n",
        "def image_data_generator(image_paths, steering_angles, batch_size):\n",
        "    while True:\n",
        "        batch_images = []\n",
        "        batch_steering_angles = []\n",
        "\n",
        "        for i in range(batch_size):\n",
        "            random_index = random.randint(0, len(image_paths) - 1)\n",
        "            image_path = image_paths[random_index]\n",
        "            image = my_imread(image_paths[random_index])\n",
        "            steering_angle = steering_angles[random_index]\n",
        "\n",
        "            image = img_preprocess(image)\n",
        "            batch_images.append(image)\n",
        "            batch_steering_angles.append(steering_angle)\n",
        "\n",
        "        yield(np.asarray(batch_images), np.asarray(batch_steering_angles))\n",
        "\n",
        "def nvidia_model():\n",
        "    model = Sequential(name='Nvidia_Model')\n",
        "\n",
        "    model.add(Conv2D(24, (5, 5), strides=(2, 2), input_shape=(80, 220,3), activation='relu'))\n",
        "    model.add(Conv2D(36, (5, 5), strides=(2, 2), activation='relu'))\n",
        "    model.add(Conv2D(48, (5, 5), strides=(2, 2), activation='relu'))\n",
        "    model.add(Conv2D(64, (3, 3), activation='relu'))\n",
        "    model.add(Dropout(0.2))\n",
        "    model.add(Conv2D(64, (3, 3), activation='relu'))\n",
        "\n",
        "    model.add(Flatten())\n",
        "    model.add(Dropout(0.2))\n",
        "    model.add(Dense(100, activation='relu'))\n",
        "    model.add(Dense(50, activation='relu'))\n",
        "    model.add(Dense(10, activation='relu'))\n",
        "\n",
        "    model.add(Dense(1))\n",
        "\n",
        "    optimizer = Adam(learning_rate=1e-3)\n",
        "    model.compile(loss='mse', optimizer=optimizer)\n",
        "\n",
        "    return model\n",
        "\n",
        "model = nvidia_model()"
      ]
    },
    {
      "cell_type": "markdown",
      "metadata": {},
      "source": [
        "## 모델 학습"
      ]
    },
    {
      "cell_type": "code",
      "execution_count": null,
      "metadata": {},
      "outputs": [],
      "source": [
        "image_paths = []\n",
        "\n",
        "\n",
        "data_dir = '/content/img'\n",
        "\n",
        "for root, dirs, files in os.walk(data_dir):\n",
        "    for file in files:\n",
        "        if file.endswith('.png'):\n",
        "            image_paths.append(os.path.join(root, file))\n",
        "file_list = image_paths\n",
        "image_paths = [] #이미지 경로를 저장하는 변수\n",
        "steering_angles = [] #이미지 각도를 저장하는 변수\n",
        "pattern = \"*.png\"\n",
        "print(len(file_list))\n",
        "for filename in file_list:\n",
        "    if fnmatch.fnmatch(filename, pattern):\n",
        "        image_paths.append(os.path.join(data_dir,filename))\n",
        "        angle = int(filename[-7:-4]) #\n",
        "\n",
        "        steering_angles.append(angle)\n",
        "\n",
        "df = pd.DataFrame()\n",
        "df['ImagePath'] = image_paths\n",
        "df['Angle'] = steering_angles\n",
        "\n",
        "\n",
        "model_output_dir = \"/content/\"\n",
        "\n",
        "early_stop = EarlyStopping(monitor='val_loss', mode='min', verbose=1, patience=3)\n",
        "\n",
        "checkpoint_callback = tensorflow.keras.callbacks.ModelCheckpoint(filepath=os.path.join(model_output_dir,'lane_navigation_check.h5'), verbose=1, save_best_only=True)\n",
        "X_train, X_valid, y_train, y_valid = train_test_split( image_paths,steering_angles, test_size=0.2)\n",
        "history = model.fit(image_data_generator(X_train, y_train, batch_size=128),\n",
        "                              steps_per_epoch=400,\n",
        "                              epochs=12,\n",
        "                              validation_data = image_data_generator( X_valid, y_valid, batch_size=128),\n",
        "                              validation_steps=200,\n",
        "                              verbose=1,\n",
        "                              shuffle=10,\n",
        "                              callbacks=[checkpoint_callback,early_stop],batch_size=128)\n",
        "\n",
        "model.save(os.path.join(model_output_dir,'1_lane_1.h5'))"
      ]
    },
    {
      "cell_type": "markdown",
      "metadata": {},
      "source": [
        "## 모델 경량화"
      ]
    },
    {
      "cell_type": "code",
      "execution_count": null,
      "metadata": {},
      "outputs": [],
      "source": [
        "\n",
        "# 핵심 TFLite로 변환\n",
        "converter = tf.lite.TFLiteConverter.from_keras_model(model)\n",
        "tflite_model = converter.convert()\n",
        "\n",
        "\n",
        "with open('1_lane_1.tflite', 'wb') as f:\n",
        "    f.write(tflite_model)\n",
        "\n",
        "\n",
        "\n",
        "history_path = os.path.join(model_output_dir,'history.pickle')\n",
        "with open(history_path, 'wb') as f:\n",
        "    pickle.dump(history.history, f, pickle.HIGHEST_PROTOCOL)\n"
      ]
    }
  ],
  "metadata": {
    "accelerator": "GPU",
    "colab": {
      "machine_shape": "hm",
      "provenance": []
    },
    "kernelspec": {
      "display_name": "Python 3",
      "name": "python3"
    },
    "language_info": {
      "name": "python"
    }
  },
  "nbformat": 4,
  "nbformat_minor": 0
}
